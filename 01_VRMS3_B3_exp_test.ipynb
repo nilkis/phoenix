{
  "nbformat": 4,
  "nbformat_minor": 0,
  "metadata": {
    "colab": {
      "name": "01_VRMS3-B3-exp.ipynb의 사본의 사본",
      "version": "0.3.2",
      "provenance": [],
      "collapsed_sections": [],
      "include_colab_link": true
    },
    "language_info": {
      "codemirror_mode": {
        "name": "ipython",
        "version": 3
      },
      "file_extension": ".py",
      "mimetype": "text/x-python",
      "name": "python",
      "nbconvert_exporter": "python",
      "pygments_lexer": "ipython3",
      "version": "3.7.1"
    },
    "kernelspec": {
      "name": "python3",
      "display_name": "Python 3"
    }
  },
  "cells": [
    {
      "cell_type": "markdown",
      "metadata": {
        "id": "view-in-github",
        "colab_type": "text"
      },
      "source": [
        "<a href=\"https://colab.research.google.com/github/nilkis/phoenix/blob/master/01_VRMS3_B3_exp_test.ipynb\" target=\"_parent\"><img src=\"https://colab.research.google.com/assets/colab-badge.svg\" alt=\"Open In Colab\"/></a>"
      ]
    },
    {
      "cell_type": "code",
      "metadata": {
        "id": "ZVwYyZBBwj2N",
        "colab_type": "code",
        "colab": {}
      },
      "source": [
        "import os\n",
        "from datetime import datetime\n",
        "import pandas as pd\n",
        "import glob\n",
        "import scipy\n",
        "from scipy import integrate\n",
        "import numpy as np\n",
        "import matplotlib.pyplot as plt"
      ],
      "execution_count": 0,
      "outputs": []
    },
    {
      "cell_type": "code",
      "metadata": {
        "id": "vJywSOa6xIFp",
        "colab_type": "code",
        "outputId": "01072ec7-5a05-4dee-9fa8-1399f6ffc70a",
        "colab": {
          "base_uri": "https://localhost:8080/",
          "height": 132
        }
      },
      "source": [
        "from google.colab import auth\n",
        "auth.authenticate_user()\n",
        "\n",
        "from google.colab import drive\n",
        "drive.mount('/content/gdrive')"
      ],
      "execution_count": 4,
      "outputs": [
        {
          "output_type": "stream",
          "text": [
            "Go to this URL in a browser: https://accounts.google.com/o/oauth2/auth?client_id=947318989803-6bn6qk8qdgf4n4g3pfee6491hc0brc4i.apps.googleusercontent.com&redirect_uri=urn%3Aietf%3Awg%3Aoauth%3A2.0%3Aoob&scope=email%20https%3A%2F%2Fwww.googleapis.com%2Fauth%2Fdocs.test%20https%3A%2F%2Fwww.googleapis.com%2Fauth%2Fdrive%20https%3A%2F%2Fwww.googleapis.com%2Fauth%2Fdrive.photos.readonly%20https%3A%2F%2Fwww.googleapis.com%2Fauth%2Fpeopleapi.readonly&response_type=code\n",
            "\n",
            "Enter your authorization code:\n",
            "··········\n",
            "Mounted at /content/gdrive\n"
          ],
          "name": "stdout"
        }
      ]
    },
    {
      "cell_type": "code",
      "metadata": {
        "id": "w3bB0Vev0enx",
        "colab_type": "code",
        "outputId": "a503e0d9-7e60-4e73-aff3-6e4022ef6072",
        "colab": {
          "base_uri": "https://localhost:8080/",
          "height": 81
        }
      },
      "source": [
        "!ls 'gdrive/My Drive'"
      ],
      "execution_count": 0,
      "outputs": [
        {
          "output_type": "stream",
          "text": [
            " 발표자료\t\t  books\t\t     education\t team-seminar\n",
            "'Backup 2019-04-16.zip'  'Colab Notebooks'   hobby\t work\n"
          ],
          "name": "stdout"
        }
      ]
    },
    {
      "cell_type": "code",
      "metadata": {
        "id": "IbBKqfmewj2Y",
        "colab_type": "code",
        "colab": {}
      },
      "source": [
        "## load data\n",
        "#vrms_file3='./vrms/4th_test.csv'\n",
        "#vrms_file3='https://github.com/nilkis/rul/blob/master/vrms/4th_test.csv'\n",
        "vrms_file3='./gdrive/My Drive/work/2019/CJ-logistics/04.model/vrms/4th_test.csv'\n",
        "vrms3 = pd.read_csv(vrms_file3)\n",
        "Xt_all = vrms3['B3'].values"
      ],
      "execution_count": 0,
      "outputs": []
    },
    {
      "cell_type": "code",
      "metadata": {
        "id": "n0omfoZBwj2e",
        "colab_type": "code",
        "outputId": "b919ce34-8380-4dd3-96fb-f30ed5a3f0e4",
        "colab": {
          "base_uri": "https://localhost:8080/",
          "height": 35
        }
      },
      "source": [
        "# Failure Threshold\n",
        "W = np.log(6) # failure threshold\n",
        "\n",
        "# time delta\n",
        "T_delta = 1\n",
        "\n",
        "# normal state static\n",
        "Xt_normal = Xt_all[1000:5000]\n",
        "avg_normal = np.mean(Xt_normal)\n",
        "std_normal = np.std(Xt_normal)\n",
        "FPT_threshold = avg_normal + std_normal * 6 # TODO\n",
        "FPT_threshold = 1.2\n",
        "print (\"avg_normal=%f, std_normal = %f, avg+3std = %f, W = %f\" % (avg_normal, std_normal, FPT_threshold, W))"
      ],
      "execution_count": 15,
      "outputs": [
        {
          "output_type": "stream",
          "text": [
            "avg_normal=0.547078, std_normal = 0.017335, avg+3std = 1.200000, W = 1.791759\n"
          ],
          "name": "stdout"
        }
      ]
    },
    {
      "cell_type": "code",
      "metadata": {
        "scrolled": true,
        "id": "9DvulUQewj2r",
        "colab_type": "code",
        "outputId": "bfec9c11-c8a9-4f10-8c24-2afdb8bca0b5",
        "colab": {
          "base_uri": "https://localhost:8080/",
          "height": 499
        }
      },
      "source": [
        "plt.figure(1, figsize = (16,8))\n",
        "plt.title(\"Vrms1-B3\")\n",
        "plt.plot(Xt_all, 'b')\n",
        "#plt.ylim([0, 1])\n",
        "plt.xlim([5800,6400])\n",
        "plt.grid()\n",
        "plt.axhline(y=FPT_threshold, color='r', linestyle='-')\n",
        "plt.show()"
      ],
      "execution_count": 16,
      "outputs": [
        {
          "output_type": "display_data",
          "data": {
            "image/png": "[encoded data removed]",
            "text/plain": [
              "<Figure size 1152x576 with 1 Axes>"
            ]
          },
          "metadata": {
            "tags": []
          }
        }
      ]
    },
    {
      "cell_type": "code",
      "metadata": {
        "id": "Cu4tHLERwj2y",
        "colab_type": "code",
        "outputId": "d16f906c-86cc-4d6c-d5fa-d1553680eba0",
        "colab": {
          "base_uri": "https://localhost:8080/",
          "height": 323
        }
      },
      "source": [
        "## get FPT at from Xt\n",
        "FPT_idx = np.min(np.where(Xt_all > FPT_threshold))\n",
        "FPT_idx\n",
        "Xt = Xt_all[FPT_idx-1:-1] ## we start index from 1\n",
        "St = np.log(Xt)\n",
        "print(\"len(Xt_all) = %d, len(Xt) = %d, FPT_idx = %d\\n\" % (len(Xt_all), len(Xt), FPT_idx))\n",
        "plt.plot(St, 'b')"
      ],
      "execution_count": 17,
      "outputs": [
        {
          "output_type": "stream",
          "text": [
            "len(Xt_all) = 6324, len(Xt) = 132, FPT_idx = 6192\n",
            "\n"
          ],
          "name": "stdout"
        },
        {
          "output_type": "execute_result",
          "data": {
            "text/plain": [
              "[<matplotlib.lines.Line2D at 0x7f5c3efa4ef0>]"
            ]
          },
          "metadata": {
            "tags": []
          },
          "execution_count": 17
        },
        {
          "output_type": "display_data",
          "data": {
            "image/png": "[encoded data removed]",
            "text/plain": [
              "<Figure size 432x288 with 1 Axes>"
            ]
          },
          "metadata": {
            "tags": []
          }
        }
      ]
    },
    {
      "cell_type": "code",
      "metadata": {
        "id": "ca4YlAuTwj20",
        "colab_type": "code",
        "colab": {}
      },
      "source": [
        "# declare \n",
        "# theta ~ N(mu0, var0), beta ~ N(mu1, var1), var\n",
        "# BM sigma\n",
        "var_hat = []\n",
        "\n",
        "# mu0, var0 : theta prior\n",
        "mu0 = []\n",
        "var0 = []\n",
        "\n",
        "# mu1, var1 : beta prior\n",
        "mu1 = []\n",
        "var1 = []\n",
        "\n",
        "# mu_theta, var_theta : theta posterior\n",
        "mu_theta = []\n",
        "var_theta = []\n",
        "\n",
        "# mu_beta, var_beta : beta posterior\n",
        "mu_beta = []\n",
        "var_beta = []\n",
        "\n",
        "# rho : posterior correlation\n",
        "rho = []"
      ],
      "execution_count": 0,
      "outputs": []
    },
    {
      "cell_type": "code",
      "metadata": {
        "id": "S_dpkM6xwj22",
        "colab_type": "code",
        "colab": {}
      },
      "source": [
        "# Step 1. initialize. k = 0\n",
        "def init() :\n",
        "    var_hat = []\n",
        "    mu0 = []\n",
        "    var0 = []\n",
        "    mu1 = []\n",
        "    var1 = []\n",
        "    mu_theta = []\n",
        "    var_theta = []\n",
        "    mu_beta = []\n",
        "    var_beta = []\n",
        "    rho = []\n",
        "\n",
        "    var_hat.append(1)\n",
        "    mu0.append(0)\n",
        "    var0.append(1)\n",
        "    mu1.append(0)\n",
        "    var1.append(1)\n",
        "    mu_theta.append(0)\n",
        "    var_theta.append(1)\n",
        "    mu_beta.append(0)\n",
        "    var_beta.append(1)\n",
        "    rho.append(0.0)\n",
        "    \n",
        "    return (var_hat, mu0, var0, mu1, var1, mu_theta, var_theta, mu_beta, var_beta, rho)"
      ],
      "execution_count": 0,
      "outputs": []
    },
    {
      "cell_type": "code",
      "metadata": {
        "id": "WKn-j3_uwj25",
        "colab_type": "code",
        "colab": {}
      },
      "source": [
        "def update_posterior(k):\n",
        "    \"\"\"\n",
        "    from (k-1)-th prior\n",
        "    update k-th posterior\n",
        "    k-1 prior : sigma_hat[k-1], (mu0[k-1], sigma0[k-1]), (mu1[k-1], sigma1[k-1])\n",
        "    \"\"\"\n",
        "    s1 = St[1]\n",
        "    sk = St[k]\n",
        "    t1 = 1 * T_delta\n",
        "    tk = k * T_delta\n",
        "    d = var_hat[k-1]\n",
        "   # d = 0.1\n",
        "    m0 = mu0[k-1]\n",
        "    d0 = var0[k-1]\n",
        "    m1 = mu1[k-1]\n",
        "   # m1 = 1\n",
        "    d1 = var1[k-1]\n",
        "    \n",
        "   # print(\"k = %d, s1 = %f, sk = %f, d = %f, m0 = %f, d0 = %f, m1 = %f, d1 = %f\" % \\\n",
        "   #      (k, s1, sk, d, m0, d0, m1, d1))\n",
        "    v1 = ((s1 * d0 + m0 * d * t1) * (d + d1 * tk) \\\n",
        "         - d0 * t1 * (d1 * sk + m1 * d - 0.5 * d**2)) \\\n",
        "    / ((d0 + d * t1) * (d1 * tk + d) - d0 * d1 * t1)\n",
        "    \n",
        "    v2 = d0 * d * t1 * (d + d1 * tk) / ((d0 + d * t1) * (d1 * tk + d) - d0 * d1 * t1)\n",
        "    \n",
        "    v111 = (sk*d1 + m1*d - 0.5*d**2)\n",
        "    v112 = (d0 + d*t1)\n",
        "    v12 = -1 * d1*(d0*s1 + m0*d*t1)\n",
        "    v13 = (d0 + d*t1)*(d1*tk + d) - d0*d1*t1\n",
        "   # v3 = ((sk * d1 + m1 * d - 0.5 * d**2) * (d0 + d * t1) - d1 * (d0 * s1 + m0 * d * t1)) \\\n",
        "   # / ((d0 + d * t1) * (d1 * tk + d) - d0 * d1 * t1)\n",
        "    print(\"k=%d, sk=%f, m1*d=%f,v111=%f, v112=%f, v12=%f, v13=%f\" % (k,St[k],m1*d,v111,v112,v12,v13))\n",
        "    v3 = (v111*v112 + v12)/v13\n",
        "    v4 = d1 * d * t1 * (d0 + d * t1) / ((d0 + d * t1) * (d1 * tk + d) - d0 * d1 * t1)\n",
        "    \n",
        "    v5 = (-1 * np.sqrt(d0 * d1) * np.sqrt(t1)) \\\n",
        "    / np.sqrt((d0 + d * t1) * (d1 * tk + d))\n",
        "\n",
        "    return (v1, v2, v3, v4, v5)"
      ],
      "execution_count": 0,
      "outputs": []
    },
    {
      "cell_type": "code",
      "metadata": {
        "id": "6OY5BydOwj28",
        "colab_type": "code",
        "colab": {}
      },
      "source": [
        "def update_prior(k):\n",
        "    \"\"\"\n",
        "    from (k-1)-th posterior\n",
        "    update k-th prior\n",
        "    \"\"\"    \n",
        "    s1 = St[1]\n",
        "    sk = St[k]\n",
        "    t1 = T_delta\n",
        "    tk = k\n",
        "    mt = mu_theta[k]\n",
        "    mb = mu_beta[k]\n",
        "  #  mb = 0.1\n",
        "    dt = var_theta[k]\n",
        "    db = var_beta[k]\n",
        "    r = rho[k]\n",
        "\n",
        "    v1 = mu_theta[k]\n",
        "    v2 = var_theta[k]\n",
        "    v3 = mu_beta[k]\n",
        "    v4 = var_beta[k]\n",
        "\n",
        "\n",
        "    ## sigma_hat\n",
        "    tmp = 0\n",
        "    if (k >= 2) :\n",
        "        for i in range(2, k+1):\n",
        "            tmp += ((St[i] - St[i-1])**2 - mb * T_delta * (St[i] - St[i-1]) + \\\n",
        "                    T_delta**2 * (mb**2 + db))/T_delta\n",
        "            \n",
        "    v5 = ((s1**2 - 2 * s1 * (mt + mb * t1) + dt + db + 2 * t1 * (r * np.sqrt(dt) * np.sqrt(db) + mt * mb) + t1**2 * (db + mb**2))/t1 + tmp )  / k  \n",
        "    print(\"k=%d, tmp = %f, mb = %f, v5=%f\" % (k, tmp, mb,v5))\n",
        "    return (v1, v2, v3, v4, v5)"
      ],
      "execution_count": 0,
      "outputs": []
    },
    {
      "cell_type": "code",
      "metadata": {
        "id": "fyf4iN-Uwj2_",
        "colab_type": "code",
        "colab": {}
      },
      "source": [
        "##def get_pdf_rul(k):\n",
        "    \n",
        "    \n",
        "def get_predicted_trajectory():\n",
        "  t = np.arange(0, len(mu_beta), T_delta)\n",
        "  res = np.add(mu_theta, np.multiply(mu_beta, t))\n",
        "  res = np.exp(res)\n",
        "  return res"
      ],
      "execution_count": 0,
      "outputs": []
    },
    {
      "cell_type": "code",
      "metadata": {
        "id": "fkWQj5LYwj3C",
        "colab_type": "code",
        "outputId": "ed8f051b-a75c-4564-f921-c4f8ca765279",
        "colab": {
          "base_uri": "https://localhost:8080/",
          "height": 9467
        }
      },
      "source": [
        "var_hat, mu0, var0, mu1, var1, mu_theta, var_theta, mu_beta, var_beta, rho = init()\n",
        "for k in range(1, len(St)) :\n",
        "    v1, v2, v3, v4, v5 = update_posterior(k)\n",
        "    mu_theta.append(v1)\n",
        "    var_theta.append(v2)\n",
        "    mu_beta.append(v3)\n",
        "    var_beta.append(v4)\n",
        "    rho.append(v5)\n",
        "    print(\"k=%d: (mt = %f, vt = %f, mb = %f, vb = %f, r = %f)\" % (k, v1, v2, v3, v4, v5))\n",
        "\n",
        "    v6, v7, v8, v9, v10 = update_prior(k)\n",
        "    mu0.append(v6)\n",
        "    var0.append(v7)\n",
        "    mu1.append(v8)\n",
        "    var1.append(v9)\n",
        "    var_hat.append(v10) \n",
        "    print(\"k=%d: (m0=%f, v0=%f, m1=%f, v1=%f, v=%f)\" % (k,v6,v7,v8,v9,v10))\n"
      ],
      "execution_count": 38,
      "outputs": [
        {
          "output_type": "stream",
          "text": [
            "k=1, sk=0.218454, m1*d=0.000000,v111=-0.281546, v112=2.000000, v12=-0.218454, v13=3.000000\n",
            "k=1: (mt = 0.239485, vt = 0.666667, mb = -0.260515, vb = 0.666667, r = -0.500000)\n",
            "k=1, tmp = 0.000000, mb = -0.260515, v5=1.333333\n",
            "k=1: (m0=0.239485, v0=0.666667, m1=-0.260515, v1=0.666667, v=1.333333)\n",
            "k=2, sk=0.245115, m1*d=-0.347354,v111=-1.072833, v112=2.000000, v12=-0.309966, v13=4.888889\n",
            "k=2: (mt = 0.399904, vt = 0.484848, mb = -0.502288, vb = 0.363636, r = -0.288675)\n",
            "k=2, tmp = 0.630032, mb = -0.502288, v5=0.771372\n",
            "k=2: (m0=0.399904, v0=0.484848, m1=-0.502288, v1=0.363636, v=0.771372)\n",
            "k=3, sk=0.324494, m1*d=-0.387451,v111=-0.566960, v112=1.256220, v12=-0.150688, v13=2.163126\n",
            "k=3: (mt = 0.483838, vt = 0.321983, mb = -0.398920, vb = 0.162898, r = -0.274525)\n",
            "k=3, tmp = 0.693383, mb = -0.398920, v5=0.333050\n",
            "k=3: (m0=0.483838, v0=0.321983, m1=-0.398920, v1=0.162898, v=0.333050)\n",
            "k=4, sk=0.406541, m1*d=-0.132860,v111=-0.122097, v112=0.655033, v12=-0.037708, v13=0.592522\n",
            "k=4: (mt = 0.451019, vt = 0.178203, mb = -0.198618, vb = 0.059977, r = -0.285170)\n",
            "k=4, tmp = 0.349378, mb = -0.198618, v5=0.096576\n",
            "k=4: (m0=0.451019, v0=0.178203, m1=-0.198618, v1=0.059977, v=0.096576)\n",
            "k=5, sk=0.418709, m1*d=-0.019182,v111=0.001268, v112=0.274780, v12=-0.004947, v13=0.098251\n",
            "k=5: (mt = 0.330550, vt = 0.069446, mb = -0.046809, vb = 0.016199, r = -0.313226)\n",
            "k=5, tmp = 0.096827, mb = -0.046809, v5=0.014532\n",
            "k=5: (m0=0.330550, v0=0.069446, m1=-0.046809, v1=0.016199, v=0.014532)\n",
            "k=6, sk=0.422534, m1*d=-0.000680,v111=0.006059, v112=0.083978, v12=-0.000324, v13=0.008258\n",
            "k=6: (mt = 0.219300, vt = 0.013654, mb = 0.022434, vb = 0.002394, r = -0.346265)\n",
            "k=6, tmp = 0.023814, mb = 0.022434, v5=-0.001542\n",
            "k=6: (m0=0.219300, v0=0.013654, m1=0.022434, v1=0.002394, v=-0.001542)\n",
            "k=7, sk=0.460169, m1*d=-0.000035,v111=0.001066, v112=0.012112, v12=-0.000006, v13=0.000152\n",
            "k=7: (mt = 0.169429, vt = -0.002113, mb = 0.043392, vb = -0.000295, r = -0.421152)\n",
            "k=7, tmp = 0.014362, mb = 0.043392, v5=nan\n",
            "k=7: (m0=0.169429, v0=-0.002113, m1=0.043392, v1=-0.000295, v=nan)\n",
            "k=8, sk=0.396304, m1*d=nan,v111=nan, v112=nan, v12=nan, v13=nan\n",
            "k=8: (mt = nan, vt = nan, mb = nan, vb = nan, r = nan)\n",
            "k=8, tmp = nan, mb = nan, v5=nan\n",
            "k=8: (m0=nan, v0=nan, m1=nan, v1=nan, v=nan)\n",
            "k=9, sk=0.393352, m1*d=nan,v111=nan, v112=nan, v12=nan, v13=nan\n",
            "k=9: (mt = nan, vt = nan, mb = nan, vb = nan, r = nan)\n",
            "k=9, tmp = nan, mb = nan, v5=nan\n",
            "k=9: (m0=nan, v0=nan, m1=nan, v1=nan, v=nan)\n",
            "k=10, sk=0.356329, m1*d=nan,v111=nan, v112=nan, v12=nan, v13=nan\n",
            "k=10: (mt = nan, vt = nan, mb = nan, vb = nan, r = nan)\n",
            "k=10, tmp = nan, mb = nan, v5=nan\n",
            "k=10: (m0=nan, v0=nan, m1=nan, v1=nan, v=nan)\n",
            "k=11, sk=0.321503, m1*d=nan,v111=nan, v112=nan, v12=nan, v13=nan\n",
            "k=11: (mt = nan, vt = nan, mb = nan, vb = nan, r = nan)\n",
            "k=11, tmp = nan, mb = nan, v5=nan\n",
            "k=11: (m0=nan, v0=nan, m1=nan, v1=nan, v=nan)\n",
            "k=12, sk=0.344039, m1*d=nan,v111=nan, v112=nan, v12=nan, v13=nan\n",
            "k=12: (mt = nan, vt = nan, mb = nan, vb = nan, r = nan)\n",
            "k=12, tmp = nan, mb = nan, v5=nan\n",
            "k=12: (m0=nan, v0=nan, m1=nan, v1=nan, v=nan)\n",
            "k=13, sk=0.300668, m1*d=nan,v111=nan, v112=nan, v12=nan, v13=nan\n",
            "k=13: (mt = nan, vt = nan, mb = nan, vb = nan, r = nan)\n",
            "k=13, tmp = nan, mb = nan, v5=nan\n",
            "k=13: (m0=nan, v0=nan, m1=nan, v1=nan, v=nan)\n",
            "k=14, sk=0.260822, m1*d=nan,v111=nan, v112=nan, v12=nan, v13=nan\n",
            "k=14: (mt = nan, vt = nan, mb = nan, vb = nan, r = nan)\n",
            "k=14, tmp = nan, mb = nan, v5=nan\n",
            "k=14: (m0=nan, v0=nan, m1=nan, v1=nan, v=nan)\n",
            "k=15, sk=0.196664, m1*d=nan,v111=nan, v112=nan, v12=nan, v13=nan\n",
            "k=15: (mt = nan, vt = nan, mb = nan, vb = nan, r = nan)\n",
            "k=15, tmp = nan, mb = nan, v5=nan\n",
            "k=15: (m0=nan, v0=nan, m1=nan, v1=nan, v=nan)\n",
            "k=16, sk=0.164414, m1*d=nan,v111=nan, v112=nan, v12=nan, v13=nan\n",
            "k=16: (mt = nan, vt = nan, mb = nan, vb = nan, r = nan)\n",
            "k=16, tmp = nan, mb = nan, v5=nan\n",
            "k=16: (m0=nan, v0=nan, m1=nan, v1=nan, v=nan)\n",
            "k=17, sk=0.177986, m1*d=nan,v111=nan, v112=nan, v12=nan, v13=nan\n",
            "k=17: (mt = nan, vt = nan, mb = nan, vb = nan, r = nan)\n",
            "k=17, tmp = nan, mb = nan, v5=nan\n",
            "k=17: (m0=nan, v0=nan, m1=nan, v1=nan, v=nan)\n",
            "k=18, sk=0.171357, m1*d=nan,v111=nan, v112=nan, v12=nan, v13=nan\n",
            "k=18: (mt = nan, vt = nan, mb = nan, vb = nan, r = nan)\n",
            "k=18, tmp = nan, mb = nan, v5=nan\n",
            "k=18: (m0=nan, v0=nan, m1=nan, v1=nan, v=nan)\n",
            "k=19, sk=0.182229, m1*d=nan,v111=nan, v112=nan, v12=nan, v13=nan\n",
            "k=19: (mt = nan, vt = nan, mb = nan, vb = nan, r = nan)\n",
            "k=19, tmp = nan, mb = nan, v5=nan\n",
            "k=19: (m0=nan, v0=nan, m1=nan, v1=nan, v=nan)\n",
            "k=20, sk=0.213712, m1*d=nan,v111=nan, v112=nan, v12=nan, v13=nan\n",
            "k=20: (mt = nan, vt = nan, mb = nan, vb = nan, r = nan)\n",
            "k=20, tmp = nan, mb = nan, v5=nan\n",
            "k=20: (m0=nan, v0=nan, m1=nan, v1=nan, v=nan)\n",
            "k=21, sk=0.219965, m1*d=nan,v111=nan, v112=nan, v12=nan, v13=nan\n",
            "k=21: (mt = nan, vt = nan, mb = nan, vb = nan, r = nan)\n",
            "k=21, tmp = nan, mb = nan, v5=nan\n",
            "k=21: (m0=nan, v0=nan, m1=nan, v1=nan, v=nan)\n",
            "k=22, sk=0.226063, m1*d=nan,v111=nan, v112=nan, v12=nan, v13=nan\n",
            "k=22: (mt = nan, vt = nan, mb = nan, vb = nan, r = nan)\n",
            "k=22, tmp = nan, mb = nan, v5=nan\n",
            "k=22: (m0=nan, v0=nan, m1=nan, v1=nan, v=nan)\n",
            "k=23, sk=0.203756, m1*d=nan,v111=nan, v112=nan, v12=nan, v13=nan\n",
            "k=23: (mt = nan, vt = nan, mb = nan, vb = nan, r = nan)\n",
            "k=23, tmp = nan, mb = nan, v5=nan\n",
            "k=23: (m0=nan, v0=nan, m1=nan, v1=nan, v=nan)\n",
            "k=24, sk=0.215866, m1*d=nan,v111=nan, v112=nan, v12=nan, v13=nan\n",
            "k=24: (mt = nan, vt = nan, mb = nan, vb = nan, r = nan)\n",
            "k=24, tmp = nan, mb = nan, v5=nan\n",
            "k=24: (m0=nan, v0=nan, m1=nan, v1=nan, v=nan)\n",
            "k=25, sk=0.200967, m1*d=nan,v111=nan, v112=nan, v12=nan, v13=nan\n",
            "k=25: (mt = nan, vt = nan, mb = nan, vb = nan, r = nan)\n",
            "k=25, tmp = nan, mb = nan, v5=nan\n",
            "k=25: (m0=nan, v0=nan, m1=nan, v1=nan, v=nan)\n",
            "k=26, sk=0.232794, m1*d=nan,v111=nan, v112=nan, v12=nan, v13=nan\n",
            "k=26: (mt = nan, vt = nan, mb = nan, vb = nan, r = nan)\n",
            "k=26, tmp = nan, mb = nan, v5=nan\n",
            "k=26: (m0=nan, v0=nan, m1=nan, v1=nan, v=nan)\n",
            "k=27, sk=0.252087, m1*d=nan,v111=nan, v112=nan, v12=nan, v13=nan\n",
            "k=27: (mt = nan, vt = nan, mb = nan, vb = nan, r = nan)\n",
            "k=27, tmp = nan, mb = nan, v5=nan\n",
            "k=27: (m0=nan, v0=nan, m1=nan, v1=nan, v=nan)\n",
            "k=28, sk=0.273599, m1*d=nan,v111=nan, v112=nan, v12=nan, v13=nan\n",
            "k=28: (mt = nan, vt = nan, mb = nan, vb = nan, r = nan)\n",
            "k=28, tmp = nan, mb = nan, v5=nan\n",
            "k=28: (m0=nan, v0=nan, m1=nan, v1=nan, v=nan)\n",
            "k=29, sk=0.258658, m1*d=nan,v111=nan, v112=nan, v12=nan, v13=nan\n",
            "k=29: (mt = nan, vt = nan, mb = nan, vb = nan, r = nan)\n",
            "k=29, tmp = nan, mb = nan, v5=nan\n",
            "k=29: (m0=nan, v0=nan, m1=nan, v1=nan, v=nan)\n",
            "k=30, sk=0.268304, m1*d=nan,v111=nan, v112=nan, v12=nan, v13=nan\n",
            "k=30: (mt = nan, vt = nan, mb = nan, vb = nan, r = nan)\n",
            "k=30, tmp = nan, mb = nan, v5=nan\n",
            "k=30: (m0=nan, v0=nan, m1=nan, v1=nan, v=nan)\n",
            "k=31, sk=0.250766, m1*d=nan,v111=nan, v112=nan, v12=nan, v13=nan\n",
            "k=31: (mt = nan, vt = nan, mb = nan, vb = nan, r = nan)\n",
            "k=31, tmp = nan, mb = nan, v5=nan\n",
            "k=31: (m0=nan, v0=nan, m1=nan, v1=nan, v=nan)\n",
            "k=32, sk=0.243518, m1*d=nan,v111=nan, v112=nan, v12=nan, v13=nan\n",
            "k=32: (mt = nan, vt = nan, mb = nan, vb = nan, r = nan)\n",
            "k=32, tmp = nan, mb = nan, v5=nan\n",
            "k=32: (m0=nan, v0=nan, m1=nan, v1=nan, v=nan)\n",
            "k=33, sk=0.185726, m1*d=nan,v111=nan, v112=nan, v12=nan, v13=nan\n",
            "k=33: (mt = nan, vt = nan, mb = nan, vb = nan, r = nan)\n",
            "k=33, tmp = nan, mb = nan, v5=nan\n",
            "k=33: (m0=nan, v0=nan, m1=nan, v1=nan, v=nan)\n",
            "k=34, sk=0.195415, m1*d=nan,v111=nan, v112=nan, v12=nan, v13=nan\n",
            "k=34: (mt = nan, vt = nan, mb = nan, vb = nan, r = nan)\n",
            "k=34, tmp = nan, mb = nan, v5=nan\n",
            "k=34: (m0=nan, v0=nan, m1=nan, v1=nan, v=nan)\n",
            "k=35, sk=0.222651, m1*d=nan,v111=nan, v112=nan, v12=nan, v13=nan\n",
            "k=35: (mt = nan, vt = nan, mb = nan, vb = nan, r = nan)\n",
            "k=35, tmp = nan, mb = nan, v5=nan\n",
            "k=35: (m0=nan, v0=nan, m1=nan, v1=nan, v=nan)\n",
            "k=36, sk=0.260824, m1*d=nan,v111=nan, v112=nan, v12=nan, v13=nan\n",
            "k=36: (mt = nan, vt = nan, mb = nan, vb = nan, r = nan)\n",
            "k=36, tmp = nan, mb = nan, v5=nan\n",
            "k=36: (m0=nan, v0=nan, m1=nan, v1=nan, v=nan)\n",
            "k=37, sk=0.258434, m1*d=nan,v111=nan, v112=nan, v12=nan, v13=nan\n",
            "k=37: (mt = nan, vt = nan, mb = nan, vb = nan, r = nan)\n",
            "k=37, tmp = nan, mb = nan, v5=nan\n",
            "k=37: (m0=nan, v0=nan, m1=nan, v1=nan, v=nan)\n",
            "k=38, sk=0.230109, m1*d=nan,v111=nan, v112=nan, v12=nan, v13=nan\n",
            "k=38: (mt = nan, vt = nan, mb = nan, vb = nan, r = nan)\n",
            "k=38, tmp = nan, mb = nan, v5=nan\n",
            "k=38: (m0=nan, v0=nan, m1=nan, v1=nan, v=nan)\n",
            "k=39, sk=0.192885, m1*d=nan,v111=nan, v112=nan, v12=nan, v13=nan\n",
            "k=39: (mt = nan, vt = nan, mb = nan, vb = nan, r = nan)\n",
            "k=39, tmp = nan, mb = nan, v5=nan\n",
            "k=39: (m0=nan, v0=nan, m1=nan, v1=nan, v=nan)\n",
            "k=40, sk=0.264264, m1*d=nan,v111=nan, v112=nan, v12=nan, v13=nan\n",
            "k=40: (mt = nan, vt = nan, mb = nan, vb = nan, r = nan)\n",
            "k=40, tmp = nan, mb = nan, v5=nan\n",
            "k=40: (m0=nan, v0=nan, m1=nan, v1=nan, v=nan)\n",
            "k=41, sk=0.217552, m1*d=nan,v111=nan, v112=nan, v12=nan, v13=nan\n",
            "k=41: (mt = nan, vt = nan, mb = nan, vb = nan, r = nan)\n",
            "k=41, tmp = nan, mb = nan, v5=nan\n",
            "k=41: (m0=nan, v0=nan, m1=nan, v1=nan, v=nan)\n",
            "k=42, sk=0.160499, m1*d=nan,v111=nan, v112=nan, v12=nan, v13=nan\n",
            "k=42: (mt = nan, vt = nan, mb = nan, vb = nan, r = nan)\n",
            "k=42, tmp = nan, mb = nan, v5=nan\n",
            "k=42: (m0=nan, v0=nan, m1=nan, v1=nan, v=nan)\n",
            "k=43, sk=0.137766, m1*d=nan,v111=nan, v112=nan, v12=nan, v13=nan\n",
            "k=43: (mt = nan, vt = nan, mb = nan, vb = nan, r = nan)\n",
            "k=43, tmp = nan, mb = nan, v5=nan\n",
            "k=43: (m0=nan, v0=nan, m1=nan, v1=nan, v=nan)\n",
            "k=44, sk=0.251948, m1*d=nan,v111=nan, v112=nan, v12=nan, v13=nan\n",
            "k=44: (mt = nan, vt = nan, mb = nan, vb = nan, r = nan)\n",
            "k=44, tmp = nan, mb = nan, v5=nan\n",
            "k=44: (m0=nan, v0=nan, m1=nan, v1=nan, v=nan)\n",
            "k=45, sk=0.241853, m1*d=nan,v111=nan, v112=nan, v12=nan, v13=nan\n",
            "k=45: (mt = nan, vt = nan, mb = nan, vb = nan, r = nan)\n",
            "k=45, tmp = nan, mb = nan, v5=nan\n",
            "k=45: (m0=nan, v0=nan, m1=nan, v1=nan, v=nan)\n",
            "k=46, sk=0.409447, m1*d=nan,v111=nan, v112=nan, v12=nan, v13=nan\n",
            "k=46: (mt = nan, vt = nan, mb = nan, vb = nan, r = nan)\n",
            "k=46, tmp = nan, mb = nan, v5=nan\n",
            "k=46: (m0=nan, v0=nan, m1=nan, v1=nan, v=nan)\n",
            "k=47, sk=0.415860, m1*d=nan,v111=nan, v112=nan, v12=nan, v13=nan\n",
            "k=47: (mt = nan, vt = nan, mb = nan, vb = nan, r = nan)\n",
            "k=47, tmp = nan, mb = nan, v5=nan\n",
            "k=47: (m0=nan, v0=nan, m1=nan, v1=nan, v=nan)\n",
            "k=48, sk=0.397160, m1*d=nan,v111=nan, v112=nan, v12=nan, v13=nan\n",
            "k=48: (mt = nan, vt = nan, mb = nan, vb = nan, r = nan)\n",
            "k=48, tmp = nan, mb = nan, v5=nan\n",
            "k=48: (m0=nan, v0=nan, m1=nan, v1=nan, v=nan)\n",
            "k=49, sk=0.372183, m1*d=nan,v111=nan, v112=nan, v12=nan, v13=nan\n",
            "k=49: (mt = nan, vt = nan, mb = nan, vb = nan, r = nan)\n",
            "k=49, tmp = nan, mb = nan, v5=nan\n",
            "k=49: (m0=nan, v0=nan, m1=nan, v1=nan, v=nan)\n",
            "k=50, sk=0.336098, m1*d=nan,v111=nan, v112=nan, v12=nan, v13=nan\n",
            "k=50: (mt = nan, vt = nan, mb = nan, vb = nan, r = nan)\n",
            "k=50, tmp = nan, mb = nan, v5=nan\n",
            "k=50: (m0=nan, v0=nan, m1=nan, v1=nan, v=nan)\n",
            "k=51, sk=0.311216, m1*d=nan,v111=nan, v112=nan, v12=nan, v13=nan\n",
            "k=51: (mt = nan, vt = nan, mb = nan, vb = nan, r = nan)\n",
            "k=51, tmp = nan, mb = nan, v5=nan\n",
            "k=51: (m0=nan, v0=nan, m1=nan, v1=nan, v=nan)\n",
            "k=52, sk=0.334847, m1*d=nan,v111=nan, v112=nan, v12=nan, v13=nan\n",
            "k=52: (mt = nan, vt = nan, mb = nan, vb = nan, r = nan)\n",
            "k=52, tmp = nan, mb = nan, v5=nan\n",
            "k=52: (m0=nan, v0=nan, m1=nan, v1=nan, v=nan)\n",
            "k=53, sk=0.339305, m1*d=nan,v111=nan, v112=nan, v12=nan, v13=nan\n",
            "k=53: (mt = nan, vt = nan, mb = nan, vb = nan, r = nan)\n",
            "k=53, tmp = nan, mb = nan, v5=nan\n",
            "k=53: (m0=nan, v0=nan, m1=nan, v1=nan, v=nan)\n",
            "k=54, sk=0.350482, m1*d=nan,v111=nan, v112=nan, v12=nan, v13=nan\n",
            "k=54: (mt = nan, vt = nan, mb = nan, vb = nan, r = nan)\n",
            "k=54, tmp = nan, mb = nan, v5=nan\n",
            "k=54: (m0=nan, v0=nan, m1=nan, v1=nan, v=nan)\n",
            "k=55, sk=0.388536, m1*d=nan,v111=nan, v112=nan, v12=nan, v13=nan\n",
            "k=55: (mt = nan, vt = nan, mb = nan, vb = nan, r = nan)\n",
            "k=55, tmp = nan, mb = nan, v5=nan\n",
            "k=55: (m0=nan, v0=nan, m1=nan, v1=nan, v=nan)\n",
            "k=56, sk=0.401092, m1*d=nan,v111=nan, v112=nan, v12=nan, v13=nan\n",
            "k=56: (mt = nan, vt = nan, mb = nan, vb = nan, r = nan)\n",
            "k=56, tmp = nan, mb = nan, v5=nan\n",
            "k=56: (m0=nan, v0=nan, m1=nan, v1=nan, v=nan)\n",
            "k=57, sk=0.438364, m1*d=nan,v111=nan, v112=nan, v12=nan, v13=nan\n",
            "k=57: (mt = nan, vt = nan, mb = nan, vb = nan, r = nan)\n",
            "k=57, tmp = nan, mb = nan, v5=nan\n",
            "k=57: (m0=nan, v0=nan, m1=nan, v1=nan, v=nan)\n",
            "k=58, sk=0.522989, m1*d=nan,v111=nan, v112=nan, v12=nan, v13=nan\n",
            "k=58: (mt = nan, vt = nan, mb = nan, vb = nan, r = nan)\n",
            "k=58, tmp = nan, mb = nan, v5=nan\n",
            "k=58: (m0=nan, v0=nan, m1=nan, v1=nan, v=nan)\n",
            "k=59, sk=0.479667, m1*d=nan,v111=nan, v112=nan, v12=nan, v13=nan\n",
            "k=59: (mt = nan, vt = nan, mb = nan, vb = nan, r = nan)\n",
            "k=59, tmp = nan, mb = nan, v5=nan\n",
            "k=59: (m0=nan, v0=nan, m1=nan, v1=nan, v=nan)\n",
            "k=60, sk=0.468716, m1*d=nan,v111=nan, v112=nan, v12=nan, v13=nan\n",
            "k=60: (mt = nan, vt = nan, mb = nan, vb = nan, r = nan)\n",
            "k=60, tmp = nan, mb = nan, v5=nan\n",
            "k=60: (m0=nan, v0=nan, m1=nan, v1=nan, v=nan)\n",
            "k=61, sk=0.444228, m1*d=nan,v111=nan, v112=nan, v12=nan, v13=nan\n",
            "k=61: (mt = nan, vt = nan, mb = nan, vb = nan, r = nan)\n",
            "k=61, tmp = nan, mb = nan, v5=nan\n",
            "k=61: (m0=nan, v0=nan, m1=nan, v1=nan, v=nan)\n",
            "k=62, sk=0.533052, m1*d=nan,v111=nan, v112=nan, v12=nan, v13=nan\n",
            "k=62: (mt = nan, vt = nan, mb = nan, vb = nan, r = nan)\n",
            "k=62, tmp = nan, mb = nan, v5=nan\n",
            "k=62: (m0=nan, v0=nan, m1=nan, v1=nan, v=nan)\n",
            "k=63, sk=0.513400, m1*d=nan,v111=nan, v112=nan, v12=nan, v13=nan\n",
            "k=63: (mt = nan, vt = nan, mb = nan, vb = nan, r = nan)\n",
            "k=63, tmp = nan, mb = nan, v5=nan\n",
            "k=63: (m0=nan, v0=nan, m1=nan, v1=nan, v=nan)\n",
            "k=64, sk=0.545803, m1*d=nan,v111=nan, v112=nan, v12=nan, v13=nan\n",
            "k=64: (mt = nan, vt = nan, mb = nan, vb = nan, r = nan)\n",
            "k=64, tmp = nan, mb = nan, v5=nan\n",
            "k=64: (m0=nan, v0=nan, m1=nan, v1=nan, v=nan)\n",
            "k=65, sk=0.551112, m1*d=nan,v111=nan, v112=nan, v12=nan, v13=nan\n",
            "k=65: (mt = nan, vt = nan, mb = nan, vb = nan, r = nan)\n",
            "k=65, tmp = nan, mb = nan, v5=nan\n",
            "k=65: (m0=nan, v0=nan, m1=nan, v1=nan, v=nan)\n",
            "k=66, sk=0.559379, m1*d=nan,v111=nan, v112=nan, v12=nan, v13=nan\n",
            "k=66: (mt = nan, vt = nan, mb = nan, vb = nan, r = nan)\n",
            "k=66, tmp = nan, mb = nan, v5=nan\n",
            "k=66: (m0=nan, v0=nan, m1=nan, v1=nan, v=nan)\n",
            "k=67, sk=0.512615, m1*d=nan,v111=nan, v112=nan, v12=nan, v13=nan\n",
            "k=67: (mt = nan, vt = nan, mb = nan, vb = nan, r = nan)\n",
            "k=67, tmp = nan, mb = nan, v5=nan\n",
            "k=67: (m0=nan, v0=nan, m1=nan, v1=nan, v=nan)\n",
            "k=68, sk=0.525846, m1*d=nan,v111=nan, v112=nan, v12=nan, v13=nan\n",
            "k=68: (mt = nan, vt = nan, mb = nan, vb = nan, r = nan)\n",
            "k=68, tmp = nan, mb = nan, v5=nan\n",
            "k=68: (m0=nan, v0=nan, m1=nan, v1=nan, v=nan)\n",
            "k=69, sk=0.576490, m1*d=nan,v111=nan, v112=nan, v12=nan, v13=nan\n",
            "k=69: (mt = nan, vt = nan, mb = nan, vb = nan, r = nan)\n",
            "k=69, tmp = nan, mb = nan, v5=nan\n",
            "k=69: (m0=nan, v0=nan, m1=nan, v1=nan, v=nan)\n",
            "k=70, sk=0.644960, m1*d=nan,v111=nan, v112=nan, v12=nan, v13=nan\n",
            "k=70: (mt = nan, vt = nan, mb = nan, vb = nan, r = nan)\n",
            "k=70, tmp = nan, mb = nan, v5=nan\n",
            "k=70: (m0=nan, v0=nan, m1=nan, v1=nan, v=nan)\n",
            "k=71, sk=0.684956, m1*d=nan,v111=nan, v112=nan, v12=nan, v13=nan\n",
            "k=71: (mt = nan, vt = nan, mb = nan, vb = nan, r = nan)\n",
            "k=71, tmp = nan, mb = nan, v5=nan\n",
            "k=71: (m0=nan, v0=nan, m1=nan, v1=nan, v=nan)\n",
            "k=72, sk=0.676525, m1*d=nan,v111=nan, v112=nan, v12=nan, v13=nan\n",
            "k=72: (mt = nan, vt = nan, mb = nan, vb = nan, r = nan)\n",
            "k=72, tmp = nan, mb = nan, v5=nan\n",
            "k=72: (m0=nan, v0=nan, m1=nan, v1=nan, v=nan)\n",
            "k=73, sk=0.692506, m1*d=nan,v111=nan, v112=nan, v12=nan, v13=nan\n",
            "k=73: (mt = nan, vt = nan, mb = nan, vb = nan, r = nan)\n",
            "k=73, tmp = nan, mb = nan, v5=nan\n",
            "k=73: (m0=nan, v0=nan, m1=nan, v1=nan, v=nan)\n",
            "k=74, sk=0.652781, m1*d=nan,v111=nan, v112=nan, v12=nan, v13=nan\n",
            "k=74: (mt = nan, vt = nan, mb = nan, vb = nan, r = nan)\n",
            "k=74, tmp = nan, mb = nan, v5=nan\n",
            "k=74: (m0=nan, v0=nan, m1=nan, v1=nan, v=nan)\n",
            "k=75, sk=0.643301, m1*d=nan,v111=nan, v112=nan, v12=nan, v13=nan\n",
            "k=75: (mt = nan, vt = nan, mb = nan, vb = nan, r = nan)\n",
            "k=75, tmp = nan, mb = nan, v5=nan\n",
            "k=75: (m0=nan, v0=nan, m1=nan, v1=nan, v=nan)\n",
            "k=76, sk=0.775393, m1*d=nan,v111=nan, v112=nan, v12=nan, v13=nan\n",
            "k=76: (mt = nan, vt = nan, mb = nan, vb = nan, r = nan)\n",
            "k=76, tmp = nan, mb = nan, v5=nan\n",
            "k=76: (m0=nan, v0=nan, m1=nan, v1=nan, v=nan)\n",
            "k=77, sk=0.791725, m1*d=nan,v111=nan, v112=nan, v12=nan, v13=nan\n",
            "k=77: (mt = nan, vt = nan, mb = nan, vb = nan, r = nan)\n",
            "k=77, tmp = nan, mb = nan, v5=nan\n",
            "k=77: (m0=nan, v0=nan, m1=nan, v1=nan, v=nan)\n",
            "k=78, sk=0.816006, m1*d=nan,v111=nan, v112=nan, v12=nan, v13=nan\n",
            "k=78: (mt = nan, vt = nan, mb = nan, vb = nan, r = nan)\n",
            "k=78, tmp = nan, mb = nan, v5=nan\n",
            "k=78: (m0=nan, v0=nan, m1=nan, v1=nan, v=nan)\n",
            "k=79, sk=0.815832, m1*d=nan,v111=nan, v112=nan, v12=nan, v13=nan\n",
            "k=79: (mt = nan, vt = nan, mb = nan, vb = nan, r = nan)\n",
            "k=79, tmp = nan, mb = nan, v5=nan\n",
            "k=79: (m0=nan, v0=nan, m1=nan, v1=nan, v=nan)\n",
            "k=80, sk=0.787101, m1*d=nan,v111=nan, v112=nan, v12=nan, v13=nan\n",
            "k=80: (mt = nan, vt = nan, mb = nan, vb = nan, r = nan)\n",
            "k=80, tmp = nan, mb = nan, v5=nan\n",
            "k=80: (m0=nan, v0=nan, m1=nan, v1=nan, v=nan)\n",
            "k=81, sk=0.791910, m1*d=nan,v111=nan, v112=nan, v12=nan, v13=nan\n",
            "k=81: (mt = nan, vt = nan, mb = nan, vb = nan, r = nan)\n",
            "k=81, tmp = nan, mb = nan, v5=nan\n",
            "k=81: (m0=nan, v0=nan, m1=nan, v1=nan, v=nan)\n",
            "k=82, sk=0.792256, m1*d=nan,v111=nan, v112=nan, v12=nan, v13=nan\n",
            "k=82: (mt = nan, vt = nan, mb = nan, vb = nan, r = nan)\n",
            "k=82, tmp = nan, mb = nan, v5=nan\n",
            "k=82: (m0=nan, v0=nan, m1=nan, v1=nan, v=nan)\n",
            "k=83, sk=0.755670, m1*d=nan,v111=nan, v112=nan, v12=nan, v13=nan\n",
            "k=83: (mt = nan, vt = nan, mb = nan, vb = nan, r = nan)\n",
            "k=83, tmp = nan, mb = nan, v5=nan\n",
            "k=83: (m0=nan, v0=nan, m1=nan, v1=nan, v=nan)\n",
            "k=84, sk=0.762390, m1*d=nan,v111=nan, v112=nan, v12=nan, v13=nan\n",
            "k=84: (mt = nan, vt = nan, mb = nan, vb = nan, r = nan)\n",
            "k=84, tmp = nan, mb = nan, v5=nan\n",
            "k=84: (m0=nan, v0=nan, m1=nan, v1=nan, v=nan)\n",
            "k=85, sk=0.788305, m1*d=nan,v111=nan, v112=nan, v12=nan, v13=nan\n",
            "k=85: (mt = nan, vt = nan, mb = nan, vb = nan, r = nan)\n",
            "k=85, tmp = nan, mb = nan, v5=nan\n",
            "k=85: (m0=nan, v0=nan, m1=nan, v1=nan, v=nan)\n",
            "k=86, sk=0.804503, m1*d=nan,v111=nan, v112=nan, v12=nan, v13=nan\n",
            "k=86: (mt = nan, vt = nan, mb = nan, vb = nan, r = nan)\n",
            "k=86, tmp = nan, mb = nan, v5=nan\n",
            "k=86: (m0=nan, v0=nan, m1=nan, v1=nan, v=nan)\n",
            "k=87, sk=0.938284, m1*d=nan,v111=nan, v112=nan, v12=nan, v13=nan\n",
            "k=87: (mt = nan, vt = nan, mb = nan, vb = nan, r = nan)\n",
            "k=87, tmp = nan, mb = nan, v5=nan\n",
            "k=87: (m0=nan, v0=nan, m1=nan, v1=nan, v=nan)\n",
            "k=88, sk=0.887794, m1*d=nan,v111=nan, v112=nan, v12=nan, v13=nan\n",
            "k=88: (mt = nan, vt = nan, mb = nan, vb = nan, r = nan)\n",
            "k=88, tmp = nan, mb = nan, v5=nan\n",
            "k=88: (m0=nan, v0=nan, m1=nan, v1=nan, v=nan)\n",
            "k=89, sk=0.821986, m1*d=nan,v111=nan, v112=nan, v12=nan, v13=nan\n",
            "k=89: (mt = nan, vt = nan, mb = nan, vb = nan, r = nan)\n",
            "k=89, tmp = nan, mb = nan, v5=nan\n",
            "k=89: (m0=nan, v0=nan, m1=nan, v1=nan, v=nan)\n",
            "k=90, sk=0.887299, m1*d=nan,v111=nan, v112=nan, v12=nan, v13=nan\n",
            "k=90: (mt = nan, vt = nan, mb = nan, vb = nan, r = nan)\n",
            "k=90, tmp = nan, mb = nan, v5=nan\n",
            "k=90: (m0=nan, v0=nan, m1=nan, v1=nan, v=nan)\n",
            "k=91, sk=0.840147, m1*d=nan,v111=nan, v112=nan, v12=nan, v13=nan\n",
            "k=91: (mt = nan, vt = nan, mb = nan, vb = nan, r = nan)\n",
            "k=91, tmp = nan, mb = nan, v5=nan\n",
            "k=91: (m0=nan, v0=nan, m1=nan, v1=nan, v=nan)\n",
            "k=92, sk=0.825066, m1*d=nan,v111=nan, v112=nan, v12=nan, v13=nan\n",
            "k=92: (mt = nan, vt = nan, mb = nan, vb = nan, r = nan)\n",
            "k=92, tmp = nan, mb = nan, v5=nan\n",
            "k=92: (m0=nan, v0=nan, m1=nan, v1=nan, v=nan)\n",
            "k=93, sk=0.763468, m1*d=nan,v111=nan, v112=nan, v12=nan, v13=nan\n",
            "k=93: (mt = nan, vt = nan, mb = nan, vb = nan, r = nan)\n",
            "k=93, tmp = nan, mb = nan, v5=nan\n",
            "k=93: (m0=nan, v0=nan, m1=nan, v1=nan, v=nan)\n",
            "k=94, sk=0.793556, m1*d=nan,v111=nan, v112=nan, v12=nan, v13=nan\n",
            "k=94: (mt = nan, vt = nan, mb = nan, vb = nan, r = nan)\n",
            "k=94, tmp = nan, mb = nan, v5=nan\n",
            "k=94: (m0=nan, v0=nan, m1=nan, v1=nan, v=nan)\n",
            "k=95, sk=0.807485, m1*d=nan,v111=nan, v112=nan, v12=nan, v13=nan\n",
            "k=95: (mt = nan, vt = nan, mb = nan, vb = nan, r = nan)\n",
            "k=95, tmp = nan, mb = nan, v5=nan\n",
            "k=95: (m0=nan, v0=nan, m1=nan, v1=nan, v=nan)\n",
            "k=96, sk=0.741160, m1*d=nan,v111=nan, v112=nan, v12=nan, v13=nan\n",
            "k=96: (mt = nan, vt = nan, mb = nan, vb = nan, r = nan)\n",
            "k=96, tmp = nan, mb = nan, v5=nan\n",
            "k=96: (m0=nan, v0=nan, m1=nan, v1=nan, v=nan)\n",
            "k=97, sk=0.725425, m1*d=nan,v111=nan, v112=nan, v12=nan, v13=nan\n",
            "k=97: (mt = nan, vt = nan, mb = nan, vb = nan, r = nan)\n",
            "k=97, tmp = nan, mb = nan, v5=nan\n",
            "k=97: (m0=nan, v0=nan, m1=nan, v1=nan, v=nan)\n",
            "k=98, sk=0.770607, m1*d=nan,v111=nan, v112=nan, v12=nan, v13=nan\n",
            "k=98: (mt = nan, vt = nan, mb = nan, vb = nan, r = nan)\n",
            "k=98, tmp = nan, mb = nan, v5=nan\n",
            "k=98: (m0=nan, v0=nan, m1=nan, v1=nan, v=nan)\n",
            "k=99, sk=0.801556, m1*d=nan,v111=nan, v112=nan, v12=nan, v13=nan\n",
            "k=99: (mt = nan, vt = nan, mb = nan, vb = nan, r = nan)\n",
            "k=99, tmp = nan, mb = nan, v5=nan\n",
            "k=99: (m0=nan, v0=nan, m1=nan, v1=nan, v=nan)\n",
            "k=100, sk=0.878064, m1*d=nan,v111=nan, v112=nan, v12=nan, v13=nan\n",
            "k=100: (mt = nan, vt = nan, mb = nan, vb = nan, r = nan)\n",
            "k=100, tmp = nan, mb = nan, v5=nan\n",
            "k=100: (m0=nan, v0=nan, m1=nan, v1=nan, v=nan)\n",
            "k=101, sk=0.875212, m1*d=nan,v111=nan, v112=nan, v12=nan, v13=nan\n",
            "k=101: (mt = nan, vt = nan, mb = nan, vb = nan, r = nan)\n",
            "k=101, tmp = nan, mb = nan, v5=nan\n",
            "k=101: (m0=nan, v0=nan, m1=nan, v1=nan, v=nan)\n",
            "k=102, sk=0.791987, m1*d=nan,v111=nan, v112=nan, v12=nan, v13=nan\n",
            "k=102: (mt = nan, vt = nan, mb = nan, vb = nan, r = nan)\n",
            "k=102, tmp = nan, mb = nan, v5=nan\n",
            "k=102: (m0=nan, v0=nan, m1=nan, v1=nan, v=nan)\n",
            "k=103, sk=0.796017, m1*d=nan,v111=nan, v112=nan, v12=nan, v13=nan\n",
            "k=103: (mt = nan, vt = nan, mb = nan, vb = nan, r = nan)\n",
            "k=103, tmp = nan, mb = nan, v5=nan\n",
            "k=103: (m0=nan, v0=nan, m1=nan, v1=nan, v=nan)\n",
            "k=104, sk=0.784898, m1*d=nan,v111=nan, v112=nan, v12=nan, v13=nan\n",
            "k=104: (mt = nan, vt = nan, mb = nan, vb = nan, r = nan)\n",
            "k=104, tmp = nan, mb = nan, v5=nan\n",
            "k=104: (m0=nan, v0=nan, m1=nan, v1=nan, v=nan)\n",
            "k=105, sk=0.764370, m1*d=nan,v111=nan, v112=nan, v12=nan, v13=nan\n",
            "k=105: (mt = nan, vt = nan, mb = nan, vb = nan, r = nan)\n",
            "k=105, tmp = nan, mb = nan, v5=nan\n",
            "k=105: (m0=nan, v0=nan, m1=nan, v1=nan, v=nan)\n",
            "k=106, sk=0.894259, m1*d=nan,v111=nan, v112=nan, v12=nan, v13=nan\n",
            "k=106: (mt = nan, vt = nan, mb = nan, vb = nan, r = nan)\n",
            "k=106, tmp = nan, mb = nan, v5=nan\n",
            "k=106: (m0=nan, v0=nan, m1=nan, v1=nan, v=nan)\n",
            "k=107, sk=0.809594, m1*d=nan,v111=nan, v112=nan, v12=nan, v13=nan\n",
            "k=107: (mt = nan, vt = nan, mb = nan, vb = nan, r = nan)\n",
            "k=107, tmp = nan, mb = nan, v5=nan\n",
            "k=107: (m0=nan, v0=nan, m1=nan, v1=nan, v=nan)\n",
            "k=108, sk=0.830556, m1*d=nan,v111=nan, v112=nan, v12=nan, v13=nan\n",
            "k=108: (mt = nan, vt = nan, mb = nan, vb = nan, r = nan)\n",
            "k=108, tmp = nan, mb = nan, v5=nan\n",
            "k=108: (m0=nan, v0=nan, m1=nan, v1=nan, v=nan)\n",
            "k=109, sk=0.793637, m1*d=nan,v111=nan, v112=nan, v12=nan, v13=nan\n",
            "k=109: (mt = nan, vt = nan, mb = nan, vb = nan, r = nan)\n",
            "k=109, tmp = nan, mb = nan, v5=nan\n",
            "k=109: (m0=nan, v0=nan, m1=nan, v1=nan, v=nan)\n",
            "k=110, sk=0.821631, m1*d=nan,v111=nan, v112=nan, v12=nan, v13=nan\n",
            "k=110: (mt = nan, vt = nan, mb = nan, vb = nan, r = nan)\n",
            "k=110, tmp = nan, mb = nan, v5=nan\n",
            "k=110: (m0=nan, v0=nan, m1=nan, v1=nan, v=nan)\n",
            "k=111, sk=0.919095, m1*d=nan,v111=nan, v112=nan, v12=nan, v13=nan\n",
            "k=111: (mt = nan, vt = nan, mb = nan, vb = nan, r = nan)\n",
            "k=111, tmp = nan, mb = nan, v5=nan\n",
            "k=111: (m0=nan, v0=nan, m1=nan, v1=nan, v=nan)\n",
            "k=112, sk=0.986104, m1*d=nan,v111=nan, v112=nan, v12=nan, v13=nan\n",
            "k=112: (mt = nan, vt = nan, mb = nan, vb = nan, r = nan)\n",
            "k=112, tmp = nan, mb = nan, v5=nan\n",
            "k=112: (m0=nan, v0=nan, m1=nan, v1=nan, v=nan)\n",
            "k=113, sk=0.932935, m1*d=nan,v111=nan, v112=nan, v12=nan, v13=nan\n",
            "k=113: (mt = nan, vt = nan, mb = nan, vb = nan, r = nan)\n",
            "k=113, tmp = nan, mb = nan, v5=nan\n",
            "k=113: (m0=nan, v0=nan, m1=nan, v1=nan, v=nan)\n",
            "k=114, sk=1.009904, m1*d=nan,v111=nan, v112=nan, v12=nan, v13=nan\n",
            "k=114: (mt = nan, vt = nan, mb = nan, vb = nan, r = nan)\n",
            "k=114, tmp = nan, mb = nan, v5=nan\n",
            "k=114: (m0=nan, v0=nan, m1=nan, v1=nan, v=nan)\n",
            "k=115, sk=1.104158, m1*d=nan,v111=nan, v112=nan, v12=nan, v13=nan\n",
            "k=115: (mt = nan, vt = nan, mb = nan, vb = nan, r = nan)\n",
            "k=115, tmp = nan, mb = nan, v5=nan\n",
            "k=115: (m0=nan, v0=nan, m1=nan, v1=nan, v=nan)\n",
            "k=116, sk=1.109640, m1*d=nan,v111=nan, v112=nan, v12=nan, v13=nan\n",
            "k=116: (mt = nan, vt = nan, mb = nan, vb = nan, r = nan)\n",
            "k=116, tmp = nan, mb = nan, v5=nan\n",
            "k=116: (m0=nan, v0=nan, m1=nan, v1=nan, v=nan)\n",
            "k=117, sk=1.119818, m1*d=nan,v111=nan, v112=nan, v12=nan, v13=nan\n",
            "k=117: (mt = nan, vt = nan, mb = nan, vb = nan, r = nan)\n",
            "k=117, tmp = nan, mb = nan, v5=nan\n",
            "k=117: (m0=nan, v0=nan, m1=nan, v1=nan, v=nan)\n",
            "k=118, sk=1.083132, m1*d=nan,v111=nan, v112=nan, v12=nan, v13=nan\n",
            "k=118: (mt = nan, vt = nan, mb = nan, vb = nan, r = nan)\n",
            "k=118, tmp = nan, mb = nan, v5=nan\n",
            "k=118: (m0=nan, v0=nan, m1=nan, v1=nan, v=nan)\n",
            "k=119, sk=1.076837, m1*d=nan,v111=nan, v112=nan, v12=nan, v13=nan\n",
            "k=119: (mt = nan, vt = nan, mb = nan, vb = nan, r = nan)\n",
            "k=119, tmp = nan, mb = nan, v5=nan\n",
            "k=119: (m0=nan, v0=nan, m1=nan, v1=nan, v=nan)\n",
            "k=120, sk=1.360146, m1*d=nan,v111=nan, v112=nan, v12=nan, v13=nan\n",
            "k=120: (mt = nan, vt = nan, mb = nan, vb = nan, r = nan)\n",
            "k=120, tmp = nan, mb = nan, v5=nan\n",
            "k=120: (m0=nan, v0=nan, m1=nan, v1=nan, v=nan)\n",
            "k=121, sk=1.162532, m1*d=nan,v111=nan, v112=nan, v12=nan, v13=nan\n",
            "k=121: (mt = nan, vt = nan, mb = nan, vb = nan, r = nan)\n",
            "k=121, tmp = nan, mb = nan, v5=nan\n",
            "k=121: (m0=nan, v0=nan, m1=nan, v1=nan, v=nan)\n",
            "k=122, sk=1.177603, m1*d=nan,v111=nan, v112=nan, v12=nan, v13=nan\n",
            "k=122: (mt = nan, vt = nan, mb = nan, vb = nan, r = nan)\n",
            "k=122, tmp = nan, mb = nan, v5=nan\n",
            "k=122: (m0=nan, v0=nan, m1=nan, v1=nan, v=nan)\n",
            "k=123, sk=1.259733, m1*d=nan,v111=nan, v112=nan, v12=nan, v13=nan\n",
            "k=123: (mt = nan, vt = nan, mb = nan, vb = nan, r = nan)\n",
            "k=123, tmp = nan, mb = nan, v5=nan\n",
            "k=123: (m0=nan, v0=nan, m1=nan, v1=nan, v=nan)\n",
            "k=124, sk=1.149829, m1*d=nan,v111=nan, v112=nan, v12=nan, v13=nan\n",
            "k=124: (mt = nan, vt = nan, mb = nan, vb = nan, r = nan)\n",
            "k=124, tmp = nan, mb = nan, v5=nan\n",
            "k=124: (m0=nan, v0=nan, m1=nan, v1=nan, v=nan)\n",
            "k=125, sk=1.425119, m1*d=nan,v111=nan, v112=nan, v12=nan, v13=nan\n",
            "k=125: (mt = nan, vt = nan, mb = nan, vb = nan, r = nan)\n",
            "k=125, tmp = nan, mb = nan, v5=nan\n",
            "k=125: (m0=nan, v0=nan, m1=nan, v1=nan, v=nan)\n",
            "k=126, sk=1.154275, m1*d=nan,v111=nan, v112=nan, v12=nan, v13=nan\n",
            "k=126: (mt = nan, vt = nan, mb = nan, vb = nan, r = nan)\n",
            "k=126, tmp = nan, mb = nan, v5=nan\n",
            "k=126: (m0=nan, v0=nan, m1=nan, v1=nan, v=nan)\n",
            "k=127, sk=1.204515, m1*d=nan,v111=nan, v112=nan, v12=nan, v13=nan\n",
            "k=127: (mt = nan, vt = nan, mb = nan, vb = nan, r = nan)\n",
            "k=127, tmp = nan, mb = nan, v5=nan\n",
            "k=127: (m0=nan, v0=nan, m1=nan, v1=nan, v=nan)\n",
            "k=128, sk=1.306647, m1*d=nan,v111=nan, v112=nan, v12=nan, v13=nan\n",
            "k=128: (mt = nan, vt = nan, mb = nan, vb = nan, r = nan)\n",
            "k=128, tmp = nan, mb = nan, v5=nan\n",
            "k=128: (m0=nan, v0=nan, m1=nan, v1=nan, v=nan)\n",
            "k=129, sk=1.255385, m1*d=nan,v111=nan, v112=nan, v12=nan, v13=nan\n",
            "k=129: (mt = nan, vt = nan, mb = nan, vb = nan, r = nan)\n",
            "k=129, tmp = nan, mb = nan, v5=nan\n",
            "k=129: (m0=nan, v0=nan, m1=nan, v1=nan, v=nan)\n",
            "k=130, sk=1.513017, m1*d=nan,v111=nan, v112=nan, v12=nan, v13=nan\n",
            "k=130: (mt = nan, vt = nan, mb = nan, vb = nan, r = nan)\n",
            "k=130, tmp = nan, mb = nan, v5=nan\n",
            "k=130: (m0=nan, v0=nan, m1=nan, v1=nan, v=nan)\n",
            "k=131, sk=1.825077, m1*d=nan,v111=nan, v112=nan, v12=nan, v13=nan\n",
            "k=131: (mt = nan, vt = nan, mb = nan, vb = nan, r = nan)\n",
            "k=131, tmp = nan, mb = nan, v5=nan\n",
            "k=131: (m0=nan, v0=nan, m1=nan, v1=nan, v=nan)\n"
          ],
          "name": "stdout"
        },
        {
          "output_type": "stream",
          "text": [
            "/usr/local/lib/python3.6/dist-packages/ipykernel_launcher.py:29: RuntimeWarning: invalid value encountered in sqrt\n"
          ],
          "name": "stderr"
        }
      ]
    },
    {
      "cell_type": "code",
      "metadata": {
        "id": "jiSIzoR6wj3F",
        "colab_type": "code",
        "outputId": "300ac098-9667-4672-e467-a7615ba8d6dc",
        "colab": {
          "base_uri": "https://localhost:8080/",
          "height": 71
        }
      },
      "source": [
        "print(\"len(mu_beta) = %d, len(mu_tetha) = %d\\n\" % (len(mu_beta), len(mu_theta)))\n",
        "0.032392/18"
      ],
      "execution_count": 36,
      "outputs": [
        {
          "output_type": "stream",
          "text": [
            "len(mu_beta) = 132, len(mu_tetha) = 132\n",
            "\n"
          ],
          "name": "stdout"
        },
        {
          "output_type": "execute_result",
          "data": {
            "text/plain": [
              "0.0017995555555555553"
            ]
          },
          "metadata": {
            "tags": []
          },
          "execution_count": 36
        }
      ]
    },
    {
      "cell_type": "code",
      "metadata": {
        "id": "Dq9x4cDHwj3H",
        "colab_type": "code",
        "outputId": "9bfbec91-e286-464e-c298-d8a62ab0197d",
        "colab": {
          "base_uri": "https://localhost:8080/",
          "height": 35
        }
      },
      "source": [
        "trj = get_predicted_trajectory()\n",
        "len(trj)"
      ],
      "execution_count": 0,
      "outputs": [
        {
          "output_type": "execute_result",
          "data": {
            "text/plain": [
              "353"
            ]
          },
          "metadata": {
            "tags": []
          },
          "execution_count": 50
        }
      ]
    },
    {
      "cell_type": "code",
      "metadata": {
        "id": "_yr_kP8Ewj3K",
        "colab_type": "code",
        "outputId": "b8d425ba-1d26-4eac-ae6b-7ab32a90a8b0",
        "colab": {
          "base_uri": "https://localhost:8080/",
          "height": 499
        }
      },
      "source": [
        "plt.figure(1, figsize = (16,8))\n",
        "plt.title(\"Predict-Vrms3-B3\")\n",
        "#plt.plot(St, 'b')\n",
        "#plt.plot(Xt, 'r')\n",
        "#plt.plot(trj, 'g')\n",
        "plt.plot(var_theta, 'k')\n",
        "#plt.xlim([0,50])\n",
        "plt.grid()\n",
        "plt.show()"
      ],
      "execution_count": 0,
      "outputs": [
        {
          "output_type": "display_data",
          "data": {
            "image/png": "[encoded data removed]",
            "text/plain": [
              "<Figure size 1152x576 with 1 Axes>"
            ]
          },
          "metadata": {
            "tags": []
          }
        }
      ]
    },
    {
      "cell_type": "code",
      "metadata": {
        "id": "Cv3R-Ylvwj3N",
        "colab_type": "code",
        "outputId": "b8e805f8-a739-4023-b9be-c9be888d9158",
        "colab": {
          "base_uri": "https://localhost:8080/",
          "height": 539
        }
      },
      "source": [
        "tmp = []\n",
        "for i in range(2,len(St)) :\n",
        "  tmp.append((St[i] - St[i-1]))\n",
        "  #print ( \"k=%d, diff^2 = %f\" % (i, (St[i] - St[i-1])**2))\n",
        "\n",
        "plt.plot(tmp, 'b')\n",
        "plt.show()\n",
        "np.subtract(mu1,mu_beta)"
      ],
      "execution_count": 0,
      "outputs": [
        {
          "output_type": "display_data",
          "data": {
            "image/png": "[encoded data removed]",
            "text/plain": [
              "<Figure size 432x288 with 1 Axes>"
            ]
          },
          "metadata": {
            "tags": []
          }
        },
        {
          "output_type": "stream",
          "text": [
            "/usr/local/lib/python3.6/dist-packages/ipykernel_launcher.py:8: RuntimeWarning: invalid value encountered in subtract\n",
            "  \n"
          ],
          "name": "stderr"
        },
        {
          "output_type": "execute_result",
          "data": {
            "text/plain": [
              "array([ 0.,  0.,  0.,  0.,  0.,  0.,  0.,  0.,  0.,  0.,  0.,  0.,  0.,\n",
              "        0.,  0.,  0.,  0.,  0.,  0.,  0.,  0.,  0.,  0.,  0.,  0.,  0.,\n",
              "        0.,  0.,  0.,  0.,  0.,  0.,  0.,  0., nan, nan, nan, nan, nan,\n",
              "       nan, nan, nan, nan, nan, nan, nan, nan, nan, nan, nan, nan, nan,\n",
              "       nan, nan, nan, nan, nan, nan, nan, nan, nan, nan, nan, nan, nan,\n",
              "       nan, nan, nan, nan, nan, nan, nan, nan, nan, nan, nan, nan, nan,\n",
              "       nan, nan, nan, nan, nan, nan, nan, nan, nan, nan, nan, nan, nan,\n",
              "       nan, nan, nan, nan, nan, nan, nan, nan, nan, nan, nan, nan, nan,\n",
              "       nan, nan, nan, nan, nan, nan, nan, nan, nan, nan, nan, nan, nan,\n",
              "       nan, nan, nan, nan, nan, nan, nan, nan, nan, nan, nan, nan, nan,\n",
              "       nan, nan, nan, nan, nan, nan, nan, nan, nan, nan, nan, nan, nan,\n",
              "       nan, nan, nan, nan, nan, nan, nan, nan, nan, nan, nan, nan, nan,\n",
              "       nan, nan, nan, nan, nan, nan, nan, nan, nan, nan])"
            ]
          },
          "metadata": {
            "tags": []
          },
          "execution_count": 16
        }
      ]
    }
  ]
}